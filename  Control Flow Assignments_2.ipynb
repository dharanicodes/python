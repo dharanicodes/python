{
 "cells": [
  {
   "cell_type": "markdown",
   "id": "e1d93306",
   "metadata": {},
   "source": [
    "# Module 2: Control Flow Assignments\n",
    "## Lesson 2.1: Conditional Statements\n",
    "### Assignment 1: Simple if Statement\n",
    "\n",
    "Write a program that asks the user to input a number and prints whether the number is positive."
   ]
  },
  {
   "cell_type": "code",
   "execution_count": 1,
   "id": "10471345",
   "metadata": {},
   "outputs": [
    {
     "name": "stdout",
     "output_type": "stream",
     "text": [
      "Enter number: 10\n",
      "It's a Positive Number\n"
     ]
    }
   ],
   "source": [
    "num=int(input(\"Enter number: \"))\n",
    "if num>0:\n",
    "    print(f\"It's a Positive Number\")"
   ]
  },
  {
   "cell_type": "markdown",
   "id": "b0b16995",
   "metadata": {},
   "source": [
    "### Assignment 2: if-else Statement\n",
    "\n",
    "Write a program that asks the user to input a number and prints whether the number is positive or negative."
   ]
  },
  {
   "cell_type": "code",
   "execution_count": 2,
   "id": "82577121",
   "metadata": {},
   "outputs": [
    {
     "name": "stdout",
     "output_type": "stream",
     "text": [
      "Enter number: 20\n",
      "It's a Positive Number\n"
     ]
    }
   ],
   "source": [
    "# Your code here\n",
    "num=int(input(\"Enter number: \"))\n",
    "if num>0:\n",
    "    print(f\"It's a Positive Number\")\n",
    "else:\n",
    "    print(f\"It's a  Negative Number\")"
   ]
  },
  {
   "cell_type": "markdown",
   "id": "b181e4f5",
   "metadata": {},
   "source": [
    "### Assignment 3: if-elif-else Statement\n",
    "\n",
    "Write a program that asks the user to input a number and prints whether the number is positive, negative, or zero."
   ]
  },
  {
   "cell_type": "code",
   "execution_count": 3,
   "id": "8ba5cae5",
   "metadata": {},
   "outputs": [
    {
     "name": "stdout",
     "output_type": "stream",
     "text": [
      "Enter number: -2\n",
      "It's a  Negative Number\n"
     ]
    }
   ],
   "source": [
    "num=int(input(\"Enter number: \"))\n",
    "if num>0:\n",
    "    print(f\"It's a Positive Number\")\n",
    "elif num<0:\n",
    "    print(f\"It's a  Negative Number\")\n",
    "else:\n",
    "    print(\"It's Zero\")"
   ]
  },
  {
   "cell_type": "markdown",
   "id": "839895cb",
   "metadata": {},
   "source": [
    "### Assignment 4: Nested if Statement\n",
    "\n",
    "Write a program that asks the user to input a number and prints whether the number is positive and even, positive and odd, or negative."
   ]
  },
  {
   "cell_type": "code",
   "execution_count": 4,
   "id": "b5ffad4a",
   "metadata": {},
   "outputs": [
    {
     "name": "stdout",
     "output_type": "stream",
     "text": [
      "Enter number: 20\n",
      "It's a Positive and even Number\n"
     ]
    }
   ],
   "source": [
    "num=int(input(\"Enter number: \"))\n",
    "if num>0:\n",
    "    if num % 2 == 0:\n",
    "        print(f\"It's a Positive and even Number\")\n",
    "    else:\n",
    "        print(f\"It's a Positive and odd Number\")\n",
    "elif num<0:\n",
    "    print(f\"It's a  Negative Number\")\n",
    "else:\n",
    "    print(\"It's Zero\")"
   ]
  },
  {
   "cell_type": "markdown",
   "id": "4bdd3a0a",
   "metadata": {},
   "source": [
    "## Lesson 2.2: Loops\n",
    "### Assignment 5: for Loop\n",
    "\n",
    "Write a program that prints all the numbers from 1 to 10 using a for loop."
   ]
  },
  {
   "cell_type": "code",
   "execution_count": 5,
   "id": "f8ca7b39",
   "metadata": {},
   "outputs": [
    {
     "name": "stdout",
     "output_type": "stream",
     "text": [
      "1\n",
      "2\n",
      "3\n",
      "4\n",
      "5\n",
      "6\n",
      "7\n",
      "8\n",
      "9\n",
      "10\n"
     ]
    }
   ],
   "source": [
    "for i in range(1,11):\n",
    "    print(i)"
   ]
  },
  {
   "cell_type": "markdown",
   "id": "d4d90752",
   "metadata": {},
   "source": [
    "### Assignment 6: while Loop\n",
    "\n",
    "Write a program that prints all the numbers from 1 to 10 using a while loop.\n"
   ]
  },
  {
   "cell_type": "code",
   "execution_count": 10,
   "id": "6b9b84a7",
   "metadata": {},
   "outputs": [
    {
     "name": "stdout",
     "output_type": "stream",
     "text": [
      "1\n",
      "2\n",
      "3\n",
      "4\n",
      "5\n",
      "6\n",
      "7\n",
      "8\n",
      "9\n",
      "10\n"
     ]
    }
   ],
   "source": [
    "i=1\n",
    "while i<=10:\n",
    "    print(i)\n",
    "    i+=1\n",
    "    "
   ]
  },
  {
   "cell_type": "markdown",
   "id": "49f8a7d1",
   "metadata": {},
   "source": [
    "\n",
    "### Assignment 7: Nested Loops\n",
    "\n",
    "Write a program that prints a 5x5 grid of asterisks (*) using nested loops.\n"
   ]
  },
  {
   "cell_type": "code",
   "execution_count": 20,
   "id": "d7852c86",
   "metadata": {},
   "outputs": [
    {
     "name": "stdout",
     "output_type": "stream",
     "text": [
      "* * * * * \n",
      "\n",
      "* * * * * \n",
      "\n",
      "* * * * * \n",
      "\n",
      "* * * * * \n",
      "\n",
      "* * * * * \n",
      "\n"
     ]
    }
   ],
   "source": [
    "for i in range(5):\n",
    "    for j in range(5):\n",
    "        print(\"*\",end=\" \")\n",
    "    print(\"\\n\")    "
   ]
  },
  {
   "cell_type": "markdown",
   "id": "982c5332",
   "metadata": {},
   "source": [
    "### Assignment 8: break Statement\n",
    "\n",
    "Write a program that asks the user to input numbers until they input 0. The program should print the sum of all the input numbers."
   ]
  },
  {
   "cell_type": "code",
   "execution_count": 1,
   "id": "774119b9",
   "metadata": {},
   "outputs": [
    {
     "name": "stdout",
     "output_type": "stream",
     "text": [
      "Enter number: 1\n",
      "Enter number: 2\n",
      "Enter number: 3\n",
      "Enter number: 0\n",
      "6\n"
     ]
    }
   ],
   "source": [
    "sum=0\n",
    "while True:\n",
    "    num=int(input(\"Enter number: \"))\n",
    "    sum+=num\n",
    "    if num == 0:\n",
    "        break\n",
    "print(sum)"
   ]
  },
  {
   "cell_type": "markdown",
   "id": "8438f8dd",
   "metadata": {},
   "source": [
    "### Assignment 9: continue Statement\n",
    "\n",
    "Write a program that prints all the numbers from 1 to 10 except 5 using a for loop and continue statement."
   ]
  },
  {
   "cell_type": "code",
   "execution_count": 2,
   "id": "bf1e1664",
   "metadata": {},
   "outputs": [
    {
     "name": "stdout",
     "output_type": "stream",
     "text": [
      "1\n",
      "2\n",
      "3\n",
      "4\n",
      "6\n",
      "7\n",
      "8\n",
      "9\n",
      "10\n"
     ]
    }
   ],
   "source": [
    "for i in range(1,11):\n",
    "    if i==5:\n",
    "        continue\n",
    "    print(i)\n",
    "    "
   ]
  },
  {
   "cell_type": "markdown",
   "id": "eef44cd2",
   "metadata": {},
   "source": [
    "### Assignment 10: pass Statement\n",
    "\n",
    "Write a program that defines an empty function using the pass statement."
   ]
  },
  {
   "cell_type": "code",
   "execution_count": 3,
   "id": "653d16e0",
   "metadata": {},
   "outputs": [],
   "source": [
    "def empty_fucn():\n",
    "    pass\n",
    "empty_fucn()"
   ]
  },
  {
   "cell_type": "markdown",
   "id": "23eb268a",
   "metadata": {},
   "source": [
    "### Assignment 11: Combining Loops and Conditionals\n",
    "\n",
    "Write a program that asks the user to input a number and prints all the even numbers from 1 to that number using a for loop."
   ]
  },
  {
   "cell_type": "code",
   "execution_count": 4,
   "id": "92d5c678",
   "metadata": {},
   "outputs": [
    {
     "name": "stdout",
     "output_type": "stream",
     "text": [
      "Enter number: 20\n",
      "2\n",
      "4\n",
      "6\n",
      "8\n",
      "10\n",
      "12\n",
      "14\n",
      "16\n",
      "18\n"
     ]
    }
   ],
   "source": [
    "num=int(input(\"Enter number: \"))\n",
    "for i in range(1,num):\n",
    "    if i % 2 == 0:\n",
    "        print(i)"
   ]
  },
  {
   "cell_type": "markdown",
   "id": "972fa068",
   "metadata": {},
   "source": [
    "### Assignment 12: Factorial Calculation\n",
    "\n",
    "Write a program that calculates the factorial of a number input by the user using a while loop."
   ]
  },
  {
   "cell_type": "code",
   "execution_count": 15,
   "id": "906f71cc",
   "metadata": {},
   "outputs": [
    {
     "name": "stdout",
     "output_type": "stream",
     "text": [
      "Enter number: 5\n",
      " Factorial of 5 is 120\n"
     ]
    }
   ],
   "source": [
    "num=int(input(\"Enter number: \"))\n",
    "fact=1\n",
    "i=1\n",
    "while i<=num:\n",
    "    fact =fact * i\n",
    "    i+=1\n",
    "print(f\" Factorial of {num} is {fact}\")"
   ]
  },
  {
   "cell_type": "markdown",
   "id": "06f66d31",
   "metadata": {},
   "source": [
    "\n",
    "### Assignment 13: Sum of Digits\n",
    "\n",
    "Write a program that calculates the sum of the digits of a number input by the user using a while loop."
   ]
  },
  {
   "cell_type": "code",
   "execution_count": 22,
   "id": "8b02ab86",
   "metadata": {},
   "outputs": [
    {
     "name": "stdout",
     "output_type": "stream",
     "text": [
      "Enter number: 1234\n",
      "Sum of digits of 1234 is 10\n"
     ]
    }
   ],
   "source": [
    "num=int(input(\"Enter number: \"))\n",
    "k=num\n",
    "total=0\n",
    "while num>0:\n",
    "    digit =num % 10\n",
    "    total +=digit\n",
    "    num=num//10\n",
    "print(f\"Sum of digits of {k} is {total}\")"
   ]
  },
  {
   "cell_type": "markdown",
   "id": "98fdec18",
   "metadata": {},
   "source": [
    "### Assignment 14: Prime Number Check\n",
    "\n",
    "Write a program that checks if a number input by the user is a prime number using a for loop."
   ]
  },
  {
   "cell_type": "code",
   "execution_count": 28,
   "id": "b1f320a5",
   "metadata": {},
   "outputs": [
    {
     "name": "stdout",
     "output_type": "stream",
     "text": [
      "Enter number: 43\n",
      "Prime Number\n"
     ]
    }
   ],
   "source": [
    "from math import sqrt\n",
    "num=int(input(\"Enter number: \"))\n",
    "is_prime=True\n",
    "if num<=1:\n",
    "    is_prime=False\n",
    "else:\n",
    "    for i in range(2,int(sqrt(num))+1):\n",
    "        if num%i == 0:\n",
    "            is_prime=False\n",
    "            break\n",
    "            \n",
    "if is_prime:\n",
    "    print(\"Prime Number\")\n",
    "else:\n",
    "    print(\"Not Prime Number\")"
   ]
  },
  {
   "cell_type": "markdown",
   "id": "62c6a9c9",
   "metadata": {},
   "source": [
    "\n",
    "### Assignment 15: Fibonacci Sequence\n",
    "\n",
    "Write a program that prints the first n Fibonacci numbers, where n is input by the user."
   ]
  },
  {
   "cell_type": "code",
   "execution_count": 34,
   "id": "3f86b20d",
   "metadata": {},
   "outputs": [
    {
     "name": "stdout",
     "output_type": "stream",
     "text": [
      "Enter number: 10\n",
      "Fibonacci sequence of 10 numbers is\n",
      "0 1 1 2 3 5 8 13 21 34 "
     ]
    }
   ],
   "source": [
    "num=int(input(\"Enter number: \"))\n",
    "a=0\n",
    "b=1\n",
    "count=0\n",
    "print(f\"Fibonacci sequence of {num} numbers is\")\n",
    "while count<num:\n",
    "    print(a,end=\" \")\n",
    "    a,b=b,a+b\n",
    "    count+=1\n",
    "    "
   ]
  },
  {
   "cell_type": "code",
   "execution_count": null,
   "id": "992b3270",
   "metadata": {},
   "outputs": [],
   "source": []
  }
 ],
 "metadata": {
  "kernelspec": {
   "display_name": "Python 3 (ipykernel)",
   "language": "python",
   "name": "python3"
  },
  "language_info": {
   "codemirror_mode": {
    "name": "ipython",
    "version": 3
   },
   "file_extension": ".py",
   "mimetype": "text/x-python",
   "name": "python",
   "nbconvert_exporter": "python",
   "pygments_lexer": "ipython3",
   "version": "3.9.7"
  }
 },
 "nbformat": 4,
 "nbformat_minor": 5
}
