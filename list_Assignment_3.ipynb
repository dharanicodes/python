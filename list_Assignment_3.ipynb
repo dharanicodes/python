{
 "cells": [
  {
   "cell_type": "markdown",
   "id": "83853de3",
   "metadata": {},
   "source": [
    "# Module 3: Data Structures Assignments\n",
    "## Lesson 3.1: Lists\n",
    "### Assignment 1: Creating and Accessing Lists\n",
    "\n",
    "Create a list of the first 20 positive integers. Print the list."
   ]
  },
  {
   "cell_type": "code",
   "execution_count": 2,
   "id": "e673e976",
   "metadata": {},
   "outputs": [
    {
     "name": "stdout",
     "output_type": "stream",
     "text": [
      "[1, 2, 3, 4, 5, 6, 7, 8, 9, 10, 11, 12, 13, 14, 15, 16, 17, 18, 19, 20]\n"
     ]
    }
   ],
   "source": [
    "positive_num=[i for i in range(1,21)]\n",
    "print(positive_num)"
   ]
  },
  {
   "cell_type": "markdown",
   "id": "84c90280",
   "metadata": {},
   "source": [
    "### Assignment 2: Accessing List Elements\n",
    "\n",
    "Print the first, middle, and last elements of the list created in Assignment 1."
   ]
  },
  {
   "cell_type": "code",
   "execution_count": 5,
   "id": "4b7ff25a",
   "metadata": {},
   "outputs": [
    {
     "name": "stdout",
     "output_type": "stream",
     "text": [
      "First element :1\n",
      "middle element :11\n",
      "Last element :20\n"
     ]
    }
   ],
   "source": [
    "print(f\"First element :{positive_num[0]}\")\n",
    "print(f\"middle element :{positive_num[len(positive_num)//2]}\")\n",
    "print(f\"Last element :{positive_num[-1]}\")"
   ]
  },
  {
   "cell_type": "markdown",
   "id": "c9b1eff2",
   "metadata": {},
   "source": [
    "### Assignment 3: List Slicing\n",
    "\n",
    "Print the first five elements, the last five elements, and the elements from index 5 to 15 of the list created in Assignment 1."
   ]
  },
  {
   "cell_type": "code",
   "execution_count": 11,
   "id": "d0ed410c",
   "metadata": {},
   "outputs": [
    {
     "name": "stdout",
     "output_type": "stream",
     "text": [
      "First 5 elements : [1, 2, 3, 4, 5]\n",
      "last 5 elements : [16, 17, 18, 19, 20]\n",
      "Elements from index 5 to 15 : [6, 7, 8, 9, 10, 11, 12, 13, 14, 15, 16]\n"
     ]
    }
   ],
   "source": [
    "print(f\"First 5 elements : {positive_num[:5]}\")\n",
    "print(f\"last 5 elements : {positive_num[-5:]}\")\n",
    "print(f\"Elements from index 5 to 15 : {positive_num[5:16]}\")"
   ]
  },
  {
   "cell_type": "markdown",
   "id": "c015ccf6",
   "metadata": {},
   "source": [
    "### Assignment 4: List Comprehensions\n",
    "\n",
    "Create a new list containing the squares of the first 10 positive integers using a list comprehension. Print the new list."
   ]
  },
  {
   "cell_type": "code",
   "execution_count": 12,
   "id": "918ea2ab",
   "metadata": {},
   "outputs": [
    {
     "name": "stdout",
     "output_type": "stream",
     "text": [
      "[1, 4, 9, 16, 25, 36, 49, 64, 81, 100]\n"
     ]
    }
   ],
   "source": [
    "squqre_num=[num**2 for num in range(1,11)]\n",
    "print(squqre_num)"
   ]
  },
  {
   "cell_type": "markdown",
   "id": "14c2b31c",
   "metadata": {},
   "source": [
    "### Assignment 5: Filtering Lists\n",
    "\n",
    "Create a new list containing only the even numbers from the list created in Assignment 1 using a list comprehension. Print the new list."
   ]
  },
  {
   "cell_type": "code",
   "execution_count": 13,
   "id": "dc54a791",
   "metadata": {},
   "outputs": [
    {
     "name": "stdout",
     "output_type": "stream",
     "text": [
      "[2, 4, 6, 8, 10, 12, 14, 16, 18, 20]\n"
     ]
    }
   ],
   "source": [
    "even_num=[num for num in positive_num if num%2==0]\n",
    "print(even_num)"
   ]
  },
  {
   "cell_type": "markdown",
   "id": "d96995e2",
   "metadata": {},
   "source": [
    "### Assignment 6: List Methods\n",
    "\n",
    "Create a list of random numbers and sort it in ascending and descending order. Remove the duplicates from the list and print the modified list."
   ]
  },
  {
   "cell_type": "code",
   "execution_count": 19,
   "id": "c2bead22",
   "metadata": {},
   "outputs": [
    {
     "name": "stdout",
     "output_type": "stream",
     "text": [
      "Original list : [17, 9, 13, 1, 17, 7, 18, 9, 20, 10, 6, 16, 2, 18, 20]\n",
      "Sorted list: [1, 2, 6, 7, 9, 9, 10, 13, 16, 17, 17, 18, 18, 20, 20]\n",
      "Sorted list in descending order : [20, 20, 18, 18, 17, 17, 16, 13, 10, 9, 9, 7, 6, 2, 1]\n",
      "Removing Duplicates : {1, 2, 6, 7, 9, 10, 13, 16, 17, 18, 20}\n"
     ]
    }
   ],
   "source": [
    "import random\n",
    "random_numbers =[random.randint(1,20) for _ in range(15)]\n",
    "print(f\"Original list : {random_numbers}\")\n",
    "sorted_num=sorted(random_numbers)\n",
    "print(f\"Sorted list: {sorted_num}\")\n",
    "sorted_num_desc = sorted(random_numbers,reverse=True)\n",
    "print(f\"Sorted list in descending order : {sorted_num_desc}\")\n",
    "list_witout_duplicates=set(sorted_num)\n",
    "print(f\"Removing Duplicates : {list_witout_duplicates}\")"
   ]
  },
  {
   "cell_type": "markdown",
   "id": "ce4e8850",
   "metadata": {},
   "source": [
    "### Assignment 7: Nested Lists\n",
    "\n",
    "Create a nested list representing a 3x3 matrix and print the matrix. Access and print the element at the second row and third column."
   ]
  },
  {
   "cell_type": "code",
   "execution_count": 22,
   "id": "2bf809b6",
   "metadata": {},
   "outputs": [
    {
     "name": "stdout",
     "output_type": "stream",
     "text": [
      "Matrix:\n",
      "[1, 2, 3]\n",
      "[4, 5, 6]\n",
      "[7, 8, 9]\n",
      "The element at the second row and third column : 6\n"
     ]
    }
   ],
   "source": [
    "matrix_lst=[[1,2,3],[4,5,6],[7,8,9]]\n",
    "#print(matrix_lst)\n",
    "print(\"Matrix:\")\n",
    "for row in matrix_lst:\n",
    "    print(row)\n",
    "print(f\"The element at the second row and third column : {matrix_lst[1][2]}\")"
   ]
  },
  {
   "cell_type": "markdown",
   "id": "a20aefb8",
   "metadata": {},
   "source": [
    "### Assignment 8: List of Dictionaries\n",
    "\n",
    "Create a list of dictionaries where each dictionary represents a student with keys 'name' and 'score'. Sort the list of dictionaries by the 'score' in descending order and print the sorted list.\n"
   ]
  },
  {
   "cell_type": "code",
   "execution_count": 27,
   "id": "f4a4a8f8",
   "metadata": {},
   "outputs": [
    {
     "name": "stdout",
     "output_type": "stream",
     "text": [
      "{'name': 'Charlie', 'score': 95}\n",
      "{'name': 'Alice', 'score': 88}\n",
      "{'name': 'Eve', 'score': 78}\n",
      "{'name': 'Bob', 'score': 72}\n",
      "{'name': 'David', 'score': 65}\n"
     ]
    }
   ],
   "source": [
    "students = [\n",
    "    {'name': 'Alice', 'score': 88},\n",
    "    {'name': 'Bob', 'score': 72},\n",
    "    {'name': 'Charlie', 'score': 95},\n",
    "    {'name': 'David', 'score': 65},\n",
    "    {'name': 'Eve', 'score': 78}\n",
    "]\n",
    "sorted_students=sorted(students,reverse=True,key=lambda x:x['score'])\n",
    "for student in sorted_students:\n",
    "    print(student)"
   ]
  },
  {
   "cell_type": "markdown",
   "id": "a4bca918",
   "metadata": {},
   "source": [
    "### Assignment 9: Matrix Transposition\n",
    "\n",
    "Write a function that takes a 3x3 matrix (nested list) as input and returns its transpose. Print the original and transposed matrices."
   ]
  },
  {
   "cell_type": "code",
   "execution_count": 31,
   "id": "b8d412b6",
   "metadata": {},
   "outputs": [
    {
     "name": "stdout",
     "output_type": "stream",
     "text": [
      "original matrix\n",
      "[1, 2, 3]\n",
      "[4, 5, 6]\n",
      "[7, 8, 9]\n",
      "Transpose Matrix\n",
      "[1, 4, 7]\n",
      "[2, 5, 8]\n",
      "[3, 6, 9]\n"
     ]
    }
   ],
   "source": [
    "def transpose(matrix):\n",
    "    transposed=[[matrix[j][i] for j in range(len(matrix))] for i in range(len(matrix))]\n",
    "    return transposed\n",
    "matrix=[\n",
    "    [1,2,3],\n",
    "    [4,5,6],\n",
    "    [7,8,9]\n",
    "]\n",
    "print(\"original matrix\")\n",
    "for row in matrix:\n",
    "    print(row)\n",
    "print(\"Transpose Matrix\")\n",
    "transposed_matrix=transpose(matrix)\n",
    "for row in transposed_matrix:\n",
    "    print(row)\n"
   ]
  },
  {
   "cell_type": "markdown",
   "id": "dc86636c",
   "metadata": {},
   "source": [
    "### Assignment 10: Flattening a Nested List\n",
    "\n",
    "Write a function that takes a nested list and flattens it into a single list. Print the original and flattened lists."
   ]
  },
  {
   "cell_type": "code",
   "execution_count": 34,
   "id": "23c655d1",
   "metadata": {},
   "outputs": [
    {
     "name": "stdout",
     "output_type": "stream",
     "text": [
      "original list\n",
      "[[1, 2, 3], [4, 5, 6], [7, 8, 9]]\n",
      "Flattened list\n",
      "[1, 2, 3, 4, 5, 6, 7, 8, 9]\n"
     ]
    }
   ],
   "source": [
    "def flatten(nested_list):\n",
    "    flatten_list=[item for sublist in nested_list for item in sublist]\n",
    "    return flatten_list\n",
    "nested_list=[\n",
    "    [1,2,3],\n",
    "    [4,5,6],\n",
    "    [7,8,9]\n",
    "]\n",
    "print(\"original list\")\n",
    "print(nested_list)\n",
    "flatten_list=flatten(nested_list)\n",
    "print(\"Flattened list\")\n",
    "print(flatten_list)"
   ]
  },
  {
   "cell_type": "markdown",
   "id": "c5e1c317",
   "metadata": {},
   "source": [
    "### Assignment 11: List Manipulation\n",
    "\n",
    "Create a list of the first 10 positive integers. Remove the elements at indices 2, 4, and 6, and insert the element '99' at index 5. Print the modified list."
   ]
  },
  {
   "cell_type": "code",
   "execution_count": 36,
   "id": "940bc204",
   "metadata": {},
   "outputs": [
    {
     "name": "stdout",
     "output_type": "stream",
     "text": [
      "Original list : [1, 2, 3, 4, 5, 6, 7, 8, 9, 10]\n",
      "modified list: [1, 2, 4, 5, 7, 99, 8, 10]\n"
     ]
    }
   ],
   "source": [
    "numbers=list(range(1,11))\n",
    "print(f\"Original list : {numbers}\")\n",
    "numbers.pop(2)\n",
    "numbers.pop(4)\n",
    "numbers.pop(6)\n",
    "numbers.insert(5,99)\n",
    "print(f\"modified list: {numbers}\")"
   ]
  },
  {
   "cell_type": "markdown",
   "id": "c3d4db67",
   "metadata": {},
   "source": [
    "### Assignment 12: List Zipping\n",
    "\n",
    "Create two lists of the same length. Use the `zip` function to combine these lists into a list of tuples and print the result."
   ]
  },
  {
   "cell_type": "code",
   "execution_count": 40,
   "id": "ac996c21",
   "metadata": {},
   "outputs": [
    {
     "name": "stdout",
     "output_type": "stream",
     "text": [
      "[(1, 5), (2, 6), (3, 7), (4, 8)]\n"
     ]
    }
   ],
   "source": [
    "list1=[1,2,3,4]\n",
    "list2=[5,6,7,8]\n",
    "new=zip(list1,list2)\n",
    "print(list(new))"
   ]
  },
  {
   "cell_type": "markdown",
   "id": "39b550d5",
   "metadata": {},
   "source": [
    "### Assignment 13: List Reversal\n",
    "\n",
    "Write a function that takes a list and returns a new list with the elements in reverse order. Print the original and reversed lists."
   ]
  },
  {
   "cell_type": "code",
   "execution_count": 43,
   "id": "b42d5e70",
   "metadata": {},
   "outputs": [
    {
     "name": "stdout",
     "output_type": "stream",
     "text": [
      "Original list: [1, 2, 3, 4, 5]\n",
      "New list : [5, 4, 3, 2, 1]\n"
     ]
    }
   ],
   "source": [
    "def reversed_list(list1):\n",
    "    return list1[::-1]\n",
    "list1=[1,2,3,4,5]\n",
    "print(f\"Original list: {list1}\")\n",
    "new_list=reversed_list(list1)\n",
    "print(f\"New list : {new_list}\")"
   ]
  },
  {
   "cell_type": "markdown",
   "id": "400862f8",
   "metadata": {},
   "source": [
    "### Assignment 14: List Rotation\n",
    "\n",
    "Write a function that rotates a list by n positions. Print the original and rotated lists."
   ]
  },
  {
   "cell_type": "code",
   "execution_count": 45,
   "id": "ee9fe1ec",
   "metadata": {},
   "outputs": [
    {
     "name": "stdout",
     "output_type": "stream",
     "text": [
      "Original list: [1, 2, 3, 4, 5]\n",
      "New list : [4, 5, 1, 2, 3]\n"
     ]
    }
   ],
   "source": [
    "def rotated_list(list1,n):\n",
    "    return list1[n:]+list1[:n]\n",
    "\n",
    "    \n",
    "list1=[1,2,3,4,5]\n",
    "print(f\"Original list: {list1}\")\n",
    "shift_positions=3\n",
    "new_list=rotated_list(list1,shift_positions)\n",
    "print(f\"New list : {new_list}\")"
   ]
  },
  {
   "cell_type": "markdown",
   "id": "e9fd58de",
   "metadata": {},
   "source": [
    "### Assignment 15: List Intersection\n",
    "\n",
    "Write a function that takes two lists and returns a new list containing only the elements that are present in both lists. Print the intersected list."
   ]
  },
  {
   "cell_type": "code",
   "execution_count": 47,
   "id": "1526d3d3",
   "metadata": {},
   "outputs": [
    {
     "name": "stdout",
     "output_type": "stream",
     "text": [
      "list1 : [1, 2, 3, 4, 5]\n",
      "list2 : [3, 4, 5, 6, 7]\n",
      "Intersected list : [3, 4, 5]\n"
     ]
    }
   ],
   "source": [
    "def intersect(list1,list2):\n",
    "    return [x for x in list1 if x in list2]\n",
    "\n",
    "list1=[1,2,3,4,5]\n",
    "list2=[3,4,5,6,7]\n",
    "print(f\"list1 : {list1}\")\n",
    "print(f\"list2 : {list2}\")\n",
    "intersected_list=intersect(list1,list2)\n",
    "print(f\"Intersected list : {intersected_list}\")"
   ]
  }
 ],
 "metadata": {
  "kernelspec": {
   "display_name": "base",
   "language": "python",
   "name": "python3"
  },
  "language_info": {
   "codemirror_mode": {
    "name": "ipython",
    "version": 3
   },
   "file_extension": ".py",
   "mimetype": "text/x-python",
   "name": "python",
   "nbconvert_exporter": "python",
   "pygments_lexer": "ipython3",
   "version": "3.9.7"
  }
 },
 "nbformat": 4,
 "nbformat_minor": 5
}
