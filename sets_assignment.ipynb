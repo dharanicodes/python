{
 "cells": [
  {
   "cell_type": "markdown",
   "id": "2a1ead6c",
   "metadata": {},
   "source": [
    "# Module 3: Data Structures Assignments\n",
    "## Lesson 3.3: Sets\n",
    "### Assignment 1: Creating and Accessing Sets\n",
    "\n",
    "Create a set with the first 10 positive integers. Print the set."
   ]
  },
  {
   "cell_type": "code",
   "execution_count": 2,
   "metadata": {},
   "outputs": [
    {
     "name": "stdout",
     "output_type": "stream",
     "text": [
      "{1, 2, 3, 4, 5, 6, 7, 8, 9, 10}\n"
     ]
    }
   ],
   "source": [
    "my_set=set(range(1,11))\n",
    "print(my_set)"
   ]
  },
  {
   "cell_type": "markdown",
   "id": "03a6f35f",
   "metadata": {},
   "source": [
    "### Assignment 2: Adding and Removing Elements\n",
    "\n",
    "Add the number 11 to the set created in Assignment 1. Then remove the number 1 from the set. Print the modified set.\n"
   ]
  },
  {
   "cell_type": "code",
   "execution_count": 3,
   "id": "3a163e9b",
   "metadata": {},
   "outputs": [
    {
     "name": "stdout",
     "output_type": "stream",
     "text": [
      "{1, 2, 3, 4, 5, 6, 7, 8, 9, 10, 11}\n",
      "{2, 3, 4, 5, 6, 7, 8, 9, 10, 11}\n"
     ]
    }
   ],
   "source": [
    "my_set.add(11)\n",
    "print(my_set)\n",
    "my_set.remove(1)\n",
    "print(my_set)"
   ]
  },
  {
   "cell_type": "markdown",
   "id": "cf6995fd",
   "metadata": {},
   "source": [
    "### Assignment 3: Set Operations\n",
    "\n",
    "Create two sets: one with the first 5 positive integers and another with the first 5 even integers. Perform and print the results of union, intersection, difference, and symmetric difference operations on these sets."
   ]
  },
  {
   "cell_type": "code",
   "execution_count": 6,
   "id": "591e9315",
   "metadata": {},
   "outputs": [
    {
     "name": "stdout",
     "output_type": "stream",
     "text": [
      "set1 : {1, 2, 3, 4, 5}\n",
      "set2 : {2, 4, 6, 8, 10}\n",
      "Union of set1 and set2: {1, 2, 3, 4, 5, 6, 8, 10}\n",
      "Intersection of set1 and set2: {2, 4}\n",
      "Difference of set1 and set2: {1, 3, 5}\n",
      "Symmetric difference of set1 and set2: {1, 3, 5, 6, 8, 10}\n"
     ]
    }
   ],
   "source": [
    "set1=set(range(1,6))\n",
    "set2=set(i for i in range(1,11) if i%2==0)\n",
    "print(f\"set1 : {set1}\")\n",
    "print(f\"set2 : {set2}\")\n",
    "\n",
    "print(f\"Union of set1 and set2: {set1.union(set2)}\")\n",
    "print(f\"Intersection of set1 and set2: {set1.intersection(set2)}\")\n",
    "print(f\"Difference of set1 and set2: {set1.difference(set2)}\")\n",
    "print(f\"Symmetric difference of set1 and set2: {set1.symmetric_difference(set2)}\")\n",
    "\n",
    "\n",
    "\n"
   ]
  },
  {
   "cell_type": "markdown",
   "id": "7c5a7c12",
   "metadata": {},
   "source": [
    "### Assignment 4: Set Comprehensions\n",
    "\n",
    "Create a new set containing the squares of the first 10 positive integers using a set comprehension. Print the new set."
   ]
  },
  {
   "cell_type": "code",
   "execution_count": 7,
   "id": "a46648e5",
   "metadata": {},
   "outputs": [
    {
     "name": "stdout",
     "output_type": "stream",
     "text": [
      "{64, 1, 4, 36, 100, 9, 16, 49, 81, 25}\n"
     ]
    }
   ],
   "source": [
    "new_set=set(i**2 for i in range(1,11))\n",
    "print(new_set)"
   ]
  },
  {
   "cell_type": "markdown",
   "id": "9c9dfce4",
   "metadata": {},
   "source": [
    "### Assignment 5: Filtering Sets\n",
    "\n",
    "Create a new set containing only the even numbers from the set created in Assignment 1 using a set comprehension. Print the new set."
   ]
  },
  {
   "cell_type": "code",
   "execution_count": 10,
   "id": "01944d4d",
   "metadata": {},
   "outputs": [
    {
     "name": "stdout",
     "output_type": "stream",
     "text": [
      "{2, 4, 6, 8, 10}\n"
     ]
    }
   ],
   "source": [
    "even = set(i for i in my_set if i%2==0)\n",
    "print(even)"
   ]
  },
  {
   "cell_type": "markdown",
   "id": "cbad8b6e",
   "metadata": {},
   "source": [
    "### Assignment 6: Set Methods\n",
    "\n",
    "Create a set with duplicate elements and remove the duplicates using set methods. Print the modified set."
   ]
  },
  {
   "cell_type": "code",
   "execution_count": 11,
   "id": "4ce8cba0",
   "metadata": {},
   "outputs": [
    {
     "name": "stdout",
     "output_type": "stream",
     "text": [
      "{1, 2, 3, 4, 5}\n"
     ]
    }
   ],
   "source": [
    "st1={1,2,2,3,4,5,4}\n",
    "unique_st=set(st1)\n",
    "print(unique_st)"
   ]
  },
  {
   "cell_type": "markdown",
   "id": "d794dda4",
   "metadata": {},
   "source": [
    "### Assignment 7: Subsets and Supersets\n",
    "\n",
    "Create two sets: one with the first 5 positive integers and another with the first 3 positive integers. Check if the second set is a subset of the first set and if the first set is a superset of the second set. Print the results."
   ]
  },
  {
   "cell_type": "code",
   "execution_count": 14,
   "id": "4bf7ac68",
   "metadata": {},
   "outputs": [
    {
     "name": "stdout",
     "output_type": "stream",
     "text": [
      "Is second set is a subset of the first set : True\n",
      "Is first set is a superset of the second set : True\n"
     ]
    }
   ],
   "source": [
    "st1=set(range(1,6))\n",
    "st2=set(range(1,4))\n",
    "print(f\"Is second set is a subset of the first set : {st2.issubset(st1)}\")\n",
    "print(f\"Is first set is a superset of the second set : {st1.issuperset(st2)}\")"
   ]
  },
  {
   "cell_type": "markdown",
   "id": "34a85988",
   "metadata": {},
   "source": [
    "### Assignment 8: Frozenset\n",
    "\n",
    "Create a frozenset with the first 5 positive integers. Print the frozenset."
   ]
  },
  {
   "cell_type": "code",
   "execution_count": 31,
   "id": "6416aece",
   "metadata": {},
   "outputs": [
    {
     "name": "stdout",
     "output_type": "stream",
     "text": [
      "frozenset({1, 2, 3, 4, 5})\n"
     ]
    }
   ],
   "source": [
    "# The frozenset() function returns an unchangeable frozenset object (which is like a set object, only unchangeable)\n",
    "x=frozenset(range(1,6))\n",
    "print(x)"
   ]
  },
  {
   "cell_type": "markdown",
   "id": "13624b78",
   "metadata": {},
   "source": [
    "### Assignment 9: Set and List Conversion\n",
    "\n",
    "Create a set with the first 5 positive integers. Convert it to a list, append the number 6, and convert it back to a set. Print the resulting set."
   ]
  },
  {
   "cell_type": "code",
   "execution_count": 20,
   "id": "e6926a16",
   "metadata": {},
   "outputs": [
    {
     "name": "stdout",
     "output_type": "stream",
     "text": [
      "{1, 2, 3, 4, 5, 6}\n"
     ]
    }
   ],
   "source": [
    "s=set(range(1,6))\n",
    "lst=list(s)\n",
    "lst.append(6)\n",
    "s=set(lst)\n",
    "print(s)"
   ]
  },
  {
   "cell_type": "markdown",
   "id": "87b2f315",
   "metadata": {},
   "source": [
    "### Assignment 10: Set and Dictionary\n",
    "\n",
    "Create a dictionary with set keys and integer values. Print the dictionary."
   ]
  },
  {
   "cell_type": "code",
   "execution_count": 22,
   "id": "41336c63",
   "metadata": {},
   "outputs": [
    {
     "name": "stdout",
     "output_type": "stream",
     "text": [
      "{frozenset({1, 2}): 3, frozenset({4, 5}): 6}\n"
     ]
    }
   ],
   "source": [
    "d={\n",
    "    frozenset({1,2}):3,\n",
    "    frozenset({4,5}):6\n",
    "}\n",
    "print(d)"
   ]
  },
  {
   "cell_type": "markdown",
   "id": "10dee6dd",
   "metadata": {},
   "source": [
    "### Assignment 11: Iterating Over Sets\n",
    "\n",
    "Create a set and iterate over the elements, printing each element."
   ]
  },
  {
   "cell_type": "code",
   "execution_count": 23,
   "id": "7b092b3f",
   "metadata": {},
   "outputs": [
    {
     "name": "stdout",
     "output_type": "stream",
     "text": [
      "1\n",
      "2\n",
      "3\n",
      "4\n",
      "5\n"
     ]
    }
   ],
   "source": [
    "s=set(range(1,6))\n",
    "for i in s:\n",
    "    print(i)"
   ]
  },
  {
   "cell_type": "markdown",
   "id": "0c5bb32d",
   "metadata": {},
   "source": [
    "### Assignment 12: Removing Elements from Sets\n",
    "\n",
    "Create a set and remove elements from it until it is empty. Print the set after each removal."
   ]
  },
  {
   "cell_type": "code",
   "execution_count": 24,
   "id": "62a9f4bb",
   "metadata": {},
   "outputs": [
    {
     "name": "stdout",
     "output_type": "stream",
     "text": [
      "{2, 3, 4, 5}\n",
      "{3, 4, 5}\n",
      "{4, 5}\n",
      "{5}\n",
      "set()\n"
     ]
    }
   ],
   "source": [
    "s=set(range(1,6))\n",
    "while s:\n",
    "    s.pop()\n",
    "    print(s)"
   ]
  },
  {
   "cell_type": "markdown",
   "id": "6fa917bb",
   "metadata": {},
   "source": [
    "### Assignment 13: Set Symmetric Difference Update\n",
    "\n",
    "Create two sets and update the first set with the symmetric difference of the two sets. Print the modified first set."
   ]
  },
  {
   "cell_type": "code",
   "execution_count": 26,
   "id": "f7e870e7",
   "metadata": {},
   "outputs": [
    {
     "name": "stdout",
     "output_type": "stream",
     "text": [
      "s1 : {1, 2, 3, 4, 5}\n",
      "s2 : {3, 4, 5, 6, 7}\n",
      "After symmetric update s1 : {1, 2, 6, 7}\n"
     ]
    }
   ],
   "source": [
    "s1=set(range(1,6))\n",
    "s2=set(range(3,8))\n",
    "print(f\"s1 : {s1}\")\n",
    "print(f\"s2 : {s2}\")\n",
    "s1.symmetric_difference_update(s2)\n",
    "print(f\"After symmetric update s1 : {s1}\")"
   ]
  },
  {
   "cell_type": "markdown",
   "id": "5088484f",
   "metadata": {},
   "source": [
    "### Assignment 14: Set Membership Testing\n",
    "\n",
    "Create a set and test if certain elements are present in the set. Print the results."
   ]
  },
  {
   "cell_type": "code",
   "execution_count": 28,
   "id": "51389695",
   "metadata": {},
   "outputs": [
    {
     "name": "stdout",
     "output_type": "stream",
     "text": [
      "False\n",
      "True\n"
     ]
    }
   ],
   "source": [
    "s = {1,3,4,5,6,8}\n",
    "print(2 in s)\n",
    "print(8 in s)"
   ]
  },
  {
   "cell_type": "markdown",
   "id": "d68eacd3",
   "metadata": {},
   "source": [
    "### Assignment 15: Set of Tuples\n",
    "\n",
    "Create a set containing tuples, where each tuple contains two elements. Print the set."
   ]
  },
  {
   "cell_type": "code",
   "execution_count": 29,
   "id": "c104932d",
   "metadata": {},
   "outputs": [
    {
     "name": "stdout",
     "output_type": "stream",
     "text": [
      "{(1, 2), (3, 4)}\n"
     ]
    }
   ],
   "source": [
    "s = {\n",
    "    (1,2),\n",
    "    (3,4)\n",
    "}\n",
    "\n",
    "print(s)"
   ]
  }
 ],
 "metadata": {
  "kernelspec": {
   "display_name": "base",
   "language": "python",
   "name": "python3"
  },
  "language_info": {
   "codemirror_mode": {
    "name": "ipython",
    "version": 3
   },
   "file_extension": ".py",
   "mimetype": "text/x-python",
   "name": "python",
   "nbconvert_exporter": "python",
   "pygments_lexer": "ipython3",
   "version": "3.9.7"
  }
 },
 "nbformat": 4,
 "nbformat_minor": 5
}
