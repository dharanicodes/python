{
 "cells": [
  {
   "cell_type": "markdown",
   "id": "84051765",
   "metadata": {},
   "source": [
    "# Module 3: Data Structures Assignments\n",
    "## Lesson 3.2: Tuples\n",
    "### Assignment 1: Creating and Accessing Tuples\n",
    "\n",
    "Create a tuple with the first 10 positive integers. Print the tuple."
   ]
  },
  {
   "cell_type": "code",
   "execution_count": 1,
   "metadata": {},
   "outputs": [
    {
     "name": "stdout",
     "output_type": "stream",
     "text": [
      "(1, 2, 3, 4, 5, 6, 7, 8, 9, 10)\n"
     ]
    }
   ],
   "source": [
    "t1=tuple(range(1,11))\n",
    "print(t1)"
   ]
  },
  {
   "cell_type": "markdown",
   "id": "bdb468ce",
   "metadata": {},
   "source": [
    "### Assignment 2: Accessing Tuple Elements\n",
    "\n",
    "Print the first, middle, and last elements of the tuple created in Assignment 1."
   ]
  },
  {
   "cell_type": "code",
   "execution_count": 14,
   "id": "36f19f11",
   "metadata": {},
   "outputs": [
    {
     "name": "stdout",
     "output_type": "stream",
     "text": [
      "First Element :1\n",
      "Middle Element :6\n",
      "Last Element :10\n"
     ]
    }
   ],
   "source": [
    "print(f\"First Element :{t1[0]}\")\n",
    "print(f\"Middle Element :{t1[len(t1)//2]}\")\n",
    "print(f\"Last Element :{t1[-1]}\")"
   ]
  },
  {
   "cell_type": "markdown",
   "id": "1dcc5523",
   "metadata": {},
   "source": [
    "### Assignment 3: Tuple Slicing\n",
    "\n",
    "Print the first three elements, the last three elements, and the elements from index 2 to 5 of the tuple created in Assignment 1."
   ]
  },
  {
   "cell_type": "code",
   "execution_count": 13,
   "id": "40564597",
   "metadata": {},
   "outputs": [
    {
     "name": "stdout",
     "output_type": "stream",
     "text": [
      "First three elements: (1, 2, 3)\n",
      "Last three elements: (8, 9, 10)\n",
      "Elements from index 2 to 5: (3, 4, 5, 6)\n",
      "\n",
      "\n"
     ]
    }
   ],
   "source": [
    "print(f\"First three elements: {t1[:3]}\")\n",
    "print(f\"Last three elements: {t1[-3:]}\")\n",
    "print(f\"Elements from index 2 to 5: {t1[2:6]}\")\n",
    "\n",
    "\n",
    "print()\n",
    "print()"
   ]
  },
  {
   "cell_type": "markdown",
   "id": "95faaf65",
   "metadata": {},
   "source": [
    "### Assignment 4: Nested Tuples\n",
    "\n",
    "Create a nested tuple representing a 3x3 matrix and print the matrix. Access and print the element at the second row and third column.\n"
   ]
  },
  {
   "cell_type": "code",
   "execution_count": 12,
   "id": "092339bf",
   "metadata": {},
   "outputs": [
    {
     "name": "stdout",
     "output_type": "stream",
     "text": [
      "matrix\n",
      "(1, 2, 3)\n",
      "(4, 5, 6)\n",
      "(7, 8, 9)\n",
      "Element at the second row and third column: 6\n"
     ]
    }
   ],
   "source": [
    "matrix=(\n",
    "        (1,2,3),\n",
    "        (4,5,6),\n",
    "        (7,8,9)\n",
    ")\n",
    "print(\"matrix\")\n",
    "for row in matrix:\n",
    "    print(row)\n",
    "print(f\"Element at the second row and third column: {matrix[1][2]}\")"
   ]
  },
  {
   "cell_type": "markdown",
   "id": "3d785d81",
   "metadata": {},
   "source": [
    "### Assignment 5: Tuple Concatenation\n",
    "\n",
    "Concatenate two tuples: (1, 2, 3) and (4, 5, 6). Print the resulting tuple."
   ]
  },
  {
   "cell_type": "code",
   "execution_count": 15,
   "id": "b16aeb9b",
   "metadata": {},
   "outputs": [
    {
     "name": "stdout",
     "output_type": "stream",
     "text": [
      "Cpncatenation of two tuples : (1, 2, 3, 4, 5, 6)\n"
     ]
    }
   ],
   "source": [
    "t1=(1, 2, 3)\n",
    "t2=(4,5,6)\n",
    "print(f\"Cpncatenation of two tuples : {t1+t2}\")"
   ]
  },
  {
   "cell_type": "markdown",
   "id": "1d696443",
   "metadata": {},
   "source": [
    "### Assignment 6: Tuple Methods\n",
    "\n",
    "Create a tuple with duplicate elements and count the occurrences of an element. Find the index of the first occurrence of an element in the tuple."
   ]
  },
  {
   "cell_type": "code",
   "execution_count": 17,
   "id": "15148efa",
   "metadata": {},
   "outputs": [
    {
     "name": "stdout",
     "output_type": "stream",
     "text": [
      "occurrences of an element:4\n",
      "index of the first occurrence of an element 4 in the tuple :1\n"
     ]
    }
   ],
   "source": [
    "t1=(2,4,1,3,4,5,6,1,2,4,4)\n",
    "print(f\"occurrences of an element:{t1.count(4)}\")\n",
    "print(f\"index of the first occurrence of an element 4 in the tuple :{t1.index(4)}\")"
   ]
  },
  {
   "cell_type": "markdown",
   "id": "4447d3cb",
   "metadata": {},
   "source": [
    "### Assignment 7: Unpacking Tuples\n",
    "\n",
    "Create a tuple with 5 elements and unpack it into 5 variables. Print the variables."
   ]
  },
  {
   "cell_type": "code",
   "execution_count": 21,
   "id": "9872860f",
   "metadata": {},
   "outputs": [
    {
     "name": "stdout",
     "output_type": "stream",
     "text": [
      "packed Tuple: (1, 'Dharani', 2, 'aasrith', 3)\n",
      "a: 1\n",
      "b: Dharani\n",
      "c: 2\n",
      "d: aasrith\n",
      "e: 3\n"
     ]
    }
   ],
   "source": [
    "packed_tuple=1,\"Dharani\",2,\"aasrith\",3\n",
    "print(f\"packed Tuple: {packed_tuple}\")\n",
    "#Unpacking\n",
    "a,b,c,d,e=packed_tuple\n",
    "print(f\"a: {a}\")\n",
    "print(f\"b: {b}\")\n",
    "print(f\"c: {c}\")\n",
    "print(f\"d: {d}\")\n",
    "print(f\"e: {e}\")\n",
    "\n"
   ]
  },
  {
   "cell_type": "markdown",
   "id": "5cc8fd93",
   "metadata": {},
   "source": [
    "### Assignment 8: Tuple Conversion\n",
    "\n",
    "Convert a list of the first 5 positive integers to a tuple. Print the tuple."
   ]
  },
  {
   "cell_type": "code",
   "execution_count": 22,
   "id": "188aa904",
   "metadata": {},
   "outputs": [
    {
     "name": "stdout",
     "output_type": "stream",
     "text": [
      "list a :[1, 2, 3, 4, 5]\n",
      "Tuple a :(1, 2, 3, 4, 5)\n"
     ]
    }
   ],
   "source": [
    "a=[1,2,3,4,5]\n",
    "print(f\"list a :{a}\")\n",
    "print(f\"Tuple a :{tuple(a)}\")"
   ]
  },
  {
   "cell_type": "markdown",
   "id": "9809be5c",
   "metadata": {},
   "source": [
    "### Assignment 9: Tuple of Tuples\n",
    "\n",
    "Create a tuple containing 3 tuples, each with 3 elements. Print the tuple of tuples."
   ]
  },
  {
   "cell_type": "code",
   "execution_count": 23,
   "id": "02a2f4f2",
   "metadata": {},
   "outputs": [
    {
     "name": "stdout",
     "output_type": "stream",
     "text": [
      "Tuple of tuples : ((1, 2, 3), ('a', 'b', 'c'), (6, 'g', 10))\n"
     ]
    }
   ],
   "source": [
    "a=((1,2,3),(\"a\",\"b\",\"c\"),(6,\"g\",10))\n",
    "print(f\"Tuple of tuples : {a}\")"
   ]
  },
  {
   "cell_type": "markdown",
   "id": "0e048403",
   "metadata": {},
   "source": [
    "### Assignment 10: Tuple and List\n",
    "\n",
    "Create a tuple with the first 5 positive integers. Convert it to a list, append the number 6, and convert it back to a tuple. Print the resulting tuple.\n"
   ]
  },
  {
   "cell_type": "code",
   "execution_count": 27,
   "id": "a6a166d6",
   "metadata": {},
   "outputs": [
    {
     "name": "stdout",
     "output_type": "stream",
     "text": [
      "tuple a: (1, 2, 3, 4, 5)\n",
      "list a: [1, 2, 3, 4, 5]\n",
      "[1, 2, 3, 4, 5, 6]\n",
      "Tuple a : (1, 2, 3, 4, 5, 6)\n"
     ]
    }
   ],
   "source": [
    "a=(1,2,3,4,5)\n",
    "print(f\"tuple a: {a}\")\n",
    "list_a=list(a)\n",
    "print(f\"list a: {list_a}\")\n",
    "list_a.append(6)\n",
    "print(list_a)\n",
    "a=tuple(list_a)\n",
    "print(f\"Tuple a : {a}\")\n"
   ]
  },
  {
   "cell_type": "markdown",
   "id": "a5c626b5",
   "metadata": {},
   "source": [
    "### Assignment 11: Tuple and String\n",
    "\n",
    "Create a tuple with the characters of a string. Join the tuple elements into a single string. Print the string."
   ]
  },
  {
   "cell_type": "code",
   "execution_count": 28,
   "id": "aae7a826",
   "metadata": {},
   "outputs": [
    {
     "name": "stdout",
     "output_type": "stream",
     "text": [
      "dharani\n"
     ]
    }
   ],
   "source": [
    "tp1=(\"d\",\"h\",\"a\",\"r\",\"a\",\"n\",\"i\")\n",
    "str1=\"\".join(tp1)\n",
    "print(str1)"
   ]
  },
  {
   "cell_type": "markdown",
   "id": "8c7491ea",
   "metadata": {},
   "source": [
    "### Assignment 12: Tuple and Dictionary\n",
    "\n",
    "Create a dictionary with tuple keys and integer values. Print the dictionary."
   ]
  },
  {
   "cell_type": "code",
   "execution_count": 29,
   "id": "b0b3164c",
   "metadata": {},
   "outputs": [
    {
     "name": "stdout",
     "output_type": "stream",
     "text": [
      "{(1, 2): 3, (4, 5): 6}\n"
     ]
    }
   ],
   "source": [
    "tpl_dict={\n",
    "    (1,2):3,\n",
    "    (4,5):6\n",
    "\n",
    "}\n",
    "print(tpl_dict)"
   ]
  },
  {
   "cell_type": "markdown",
   "id": "74f6303c",
   "metadata": {},
   "source": [
    "### Assignment 13: Nested Tuple Iteration\n",
    "\n",
    "Create a nested tuple and iterate over the elements, printing each element."
   ]
  },
  {
   "cell_type": "code",
   "execution_count": 30,
   "id": "096b9997",
   "metadata": {},
   "outputs": [
    {
     "name": "stdout",
     "output_type": "stream",
     "text": [
      "1\n",
      "2\n",
      "3\n",
      "a\n",
      "b\n",
      "c\n",
      "True\n",
      "False\n"
     ]
    }
   ],
   "source": [
    "nested_tuple = ((1, 2, 3), (\"a\", \"b\", \"c\"), (True, False))\n",
    "for sub_tuple in nested_tuple:\n",
    "    for item in sub_tuple:\n",
    "        print(item)"
   ]
  },
  {
   "cell_type": "markdown",
   "id": "015ac469",
   "metadata": {},
   "source": [
    "### Assignment 14: Tuple and Set\n",
    "\n",
    "Create a tuple with duplicate elements. Convert it to a set to remove duplicates and print the resulting set.\n"
   ]
  },
  {
   "cell_type": "code",
   "execution_count": 31,
   "id": "db3dcc3f",
   "metadata": {},
   "outputs": [
    {
     "name": "stdout",
     "output_type": "stream",
     "text": [
      "{1, 2, 3, 4, 5, 6}\n"
     ]
    }
   ],
   "source": [
    "t1=(2,4,1,3,4,5,6,1,2,4,4)\n",
    "st1=set(t1)\n",
    "print(st1)"
   ]
  },
  {
   "cell_type": "markdown",
   "id": "4c34b940",
   "metadata": {},
   "source": [
    "### Assignment 15: Tuple Functions\n",
    "\n",
    "Write functions that take a tuple and return the minimum, maximum, and sum of the elements. Print the results for a sample tuple."
   ]
  },
  {
   "cell_type": "code",
   "execution_count": 33,
   "id": "f1e82f85",
   "metadata": {},
   "outputs": [
    {
     "name": "stdout",
     "output_type": "stream",
     "text": [
      "Minimum element in tuple is :1\n",
      "Maximum element in tuple is :5\n",
      "Sum of elements in tuple is :15\n"
     ]
    }
   ],
   "source": [
    "def min_func(tpl):\n",
    "    return min(tpl)\n",
    "\n",
    "def max_func(tpl):\n",
    "    return max(tpl)\n",
    "\n",
    "def sum_func(tpl):\n",
    "    return sum(tpl)\n",
    "\n",
    "sample_tpl = (1, 2, 3, 4, 5)\n",
    "print(f\"Minimum element in tuple is :{min_func(sample_tpl)}\")\n",
    "print(f\"Maximum element in tuple is :{max_func(sample_tpl)}\")\n",
    "print(f\"Sum of elements in tuple is :{sum_func(sample_tpl)}\")"
   ]
  },
  {
   "cell_type": "markdown",
   "id": "783df0fe",
   "metadata": {},
   "source": []
  }
 ],
 "metadata": {
  "kernelspec": {
   "display_name": "base",
   "language": "python",
   "name": "python3"
  },
  "language_info": {
   "codemirror_mode": {
    "name": "ipython",
    "version": 3
   },
   "file_extension": ".py",
   "mimetype": "text/x-python",
   "name": "python",
   "nbconvert_exporter": "python",
   "pygments_lexer": "ipython3",
   "version": "3.9.7"
  }
 },
 "nbformat": 4,
 "nbformat_minor": 5
}
